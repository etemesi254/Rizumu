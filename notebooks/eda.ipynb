{
 "cells": [
  {
   "cell_type": "code",
   "id": "initial_id",
   "metadata": {
    "collapsed": true,
    "ExecuteTime": {
     "end_time": "2024-11-26T04:21:13.874615Z",
     "start_time": "2024-11-26T04:21:13.871940Z"
    }
   },
   "source": [
    "import librosa\n",
    "import librosa.display\n",
    "import matplotlib.pyplot as plt\n",
    "\n",
    "import numpy as np\n",
    "import torchaudio\n",
    "import torch\n"
   ],
   "outputs": [],
   "execution_count": 2
  },
  {
   "metadata": {
    "ExecuteTime": {
     "end_time": "2024-11-26T17:56:14.039977Z",
     "start_time": "2024-11-26T17:56:14.032515Z"
    }
   },
   "cell_type": "code",
   "source": [
    "def process_audio(file1, file2, file3, file4):\n",
    "    \"\"\"Loads two audio files, calculates their STFTs, subtracts the difference, and displays the results.\"\"\"\n",
    "    n_fft=2**12\n",
    "    try:\n",
    "        # Load audio files\n",
    "        y1, sr1 = librosa.load(file1)\n",
    "        y2, sr2 = librosa.load(file2)\n",
    "        y3, sr3 = librosa.load(file3)\n",
    "        y4, sr4 = librosa.load(file4)\n",
    "\n",
    "        y5 = y1 - (y3 + y4)\n",
    "\n",
    "        # Check if sample rates are the same\n",
    "        if sr1 != sr2:\n",
    "            print(\n",
    "                \"Warning: Sample rates of the two audio files are different. Resampling to the first file's sample rate.\")\n",
    "            y2 = librosa.resample(y2, orig_sr=sr2, target_sr=sr1)\n",
    "            sr2 = sr1\n",
    "\n",
    "        # Calculate STFTs\n",
    "        stft1 = librosa.stft(y1, n_fft=n_fft)\n",
    "        stft2 = np.abs(librosa.stft(y2,n_fft=n_fft))\n",
    "        stft3 = np.abs(librosa.stft(y3,n_fft=n_fft))\n",
    "        stft4 = np.abs(librosa.stft(y4,n_fft=n_fft))\n",
    "        stft5 = librosa.stft(y5,n_fft=n_fft)\n",
    "        c = torch.from_numpy(y5)\n",
    "        c = torch.stft(c,n_fft=n_fft,window=torch.hann_window(n_fft),return_complex=True)\n",
    "        d = torch.view_as_real(c)\n",
    "        print(d.min(), d.max())\n",
    "        print(y5.min())\n",
    "\n",
    "        # Subtract the difference (handle potential shape mismatch)\n",
    "        min_shape = min(stft1.shape[1], stft2.shape[1])\n",
    "        diff_stft = stft1[:, :min_shape] - stft5[:, :min_shape]\n",
    "        \n",
    "        stft1 = np.abs(stft1)\n",
    "        stft5 = np.abs(stft5)\n",
    "        diff_stft = np.abs(diff_stft)\n",
    "\n",
    "        # Plotting\n",
    "        plt.figure(figsize=(15, 5))\n",
    "\n",
    "        plt.subplot(1, 3, 1)\n",
    "        librosa.display.specshow(librosa.amplitude_to_db(stft1, ref=np.max), sr=sr1, y_axis='log', x_axis='time')\n",
    "        plt.title('STFT of Audio 1')\n",
    "        plt.colorbar(format='%+2.0f dB')\n",
    "\n",
    "        plt.subplot(1, 3, 2)\n",
    "        librosa.display.specshow(librosa.amplitude_to_db(stft2, ref=np.max), sr=sr2, y_axis='log', x_axis='time')\n",
    "        plt.title('STFT of Audio 2')\n",
    "        plt.colorbar(format='%+2.0f dB')\n",
    "\n",
    "        plt.subplot(1, 3, 3)\n",
    "        librosa.display.specshow(librosa.amplitude_to_db(stft5, ref=np.max), sr=sr1, y_axis='log', x_axis='time')\n",
    "        plt.title('Difference STFT')\n",
    "        plt.colorbar(format='%+2.0f dB')\n",
    "\n",
    "        plt.tight_layout()\n",
    "        plt.show()\n",
    "\n",
    "    except FileNotFoundError:\n",
    "        print(\"Error: One or both audio files not found.\")\n",
    "    except Exception as e:\n",
    "        print(f\"An error occurred: {e}\")\n",
    "\n",
    "\n",
    "# Example usage: Replace 'audio1.wav' and 'audio2.wav' with your file paths.\n",
    "top_dir = \"46841\"\n",
    "process_audio(f\"/Users/etemesi/PycharmProjects/Spite/data/dnr_v2/{top_dir}/mix.wav\",\n",
    "              f\"/Users/etemesi/PycharmProjects/Spite/data/dnr_v2/{top_dir}/speech.wav\",\n",
    "              f\"/Users/etemesi/PycharmProjects/Spite/data/dnr_v2/{top_dir}/sfx.wav\",\n",
    "              f\"/Users/etemesi/PycharmProjects/Spite/data/dnr_v2/{top_dir}/music.wav\")"
   ],
   "id": "4e6dbc8ee12e5758",
   "outputs": [
    {
     "name": "stdout",
     "output_type": "stream",
     "text": [
      "An error occurred: name 'librosa' is not defined\n"
     ]
    }
   ],
   "execution_count": 1
  },
  {
   "metadata": {
    "ExecuteTime": {
     "end_time": "2024-11-26T17:59:50.632571Z",
     "start_time": "2024-11-26T17:59:50.629452Z"
    }
   },
   "cell_type": "code",
   "source": [
    "import torchaudio\n",
    "import torch\n",
    "\n",
    "def separate_audio_by_frequency(audio_file_path, frequency_ranges,n_fft=8192):\n",
    "    \n",
    "    waveform, sample_rate = torchaudio.load(audio_file_path)\n",
    "    waveform = waveform.mean(dim=0, keepdim=True) # Convert stereo to mono\n",
    "\n",
    "    window = torch.hann_window(n_fft)\n",
    "    stft = torch.stft(waveform, n_fft=n_fft, hop_length=512, window=window, return_complex=True)\n",
    "\n",
    "    frequency_bands = []\n",
    "    for min_freq, max_freq in frequency_ranges:\n",
    "      # Calculate frequency indices\n",
    "      min_index = int(min_freq * n_fft / sample_rate)\n",
    "      max_index = int(max_freq * n_fft / sample_rate)\n",
    "\n",
    "      # Extract frequency bands from STFT\n",
    "      band_stft = stft[:, min_index:max_index, :]\n",
    "      t = torch.view_as_real(band_stft)\n",
    "      print(f\"Band:{min_freq}-{max_freq} \\t Min: {t.min()}, Max: {t.max()} Mean: {t.mean()} Std: {t.std()}\")\n",
    "      # band_waveform = torch.istft(band_stft, n_fft=n_fft, hop_length=512, window=window, length=waveform.shape[-1],onesided=False)\n",
    "      frequency_bands.append(band_stft.squeeze())\n",
    "\n",
    "\n",
    "    \n"
   ],
   "id": "e1c155dd0b25ef30",
   "outputs": [],
   "execution_count": 17
  },
  {
   "metadata": {
    "ExecuteTime": {
     "end_time": "2024-11-26T17:59:53.230173Z",
     "start_time": "2024-11-26T17:59:53.183419Z"
    }
   },
   "cell_type": "code",
   "source": "separate_audio_by_frequency(f\"/Users/etemesi/PycharmProjects/Spite/data/dnr_v2/21767/mix.wav\",[(0,5000),(5000,10000),(10000,15000),(15000,20000),(20000,25000)],n_fft=2048)",
   "id": "65362004d6ea212e",
   "outputs": [
    {
     "name": "stdout",
     "output_type": "stream",
     "text": [
      "Band:0-5000 \t Min: -154.72723388671875, Max: 143.4200897216797 Mean: -0.00011524261208251119 Std: 1.723596215248108\n",
      "Band:5000-10000 \t Min: -22.851360321044922, Max: 22.27297592163086 Mean: 2.232227780041285e-05 Std: 0.36519449949264526\n",
      "Band:10000-15000 \t Min: -19.302997589111328, Max: 20.68669891357422 Mean: -7.477993676729966e-06 Std: 0.15279212594032288\n",
      "Band:15000-20000 \t Min: -4.132102966308594, Max: 3.3117098808288574 Mean: -4.238613655616064e-06 Std: 0.060248542577028275\n",
      "Band:20000-25000 \t Min: -0.5272235870361328, Max: 0.4855363368988037 Mean: -6.655716902059794e-07 Std: 0.014956298284232616\n"
     ]
    }
   ],
   "execution_count": 18
  },
  {
   "metadata": {},
   "cell_type": "code",
   "outputs": [],
   "execution_count": null,
   "source": "",
   "id": "9739bea8f10a167d"
  }
 ],
 "metadata": {
  "kernelspec": {
   "display_name": "Python 3",
   "language": "python",
   "name": "python3"
  },
  "language_info": {
   "codemirror_mode": {
    "name": "ipython",
    "version": 2
   },
   "file_extension": ".py",
   "mimetype": "text/x-python",
   "name": "python",
   "nbconvert_exporter": "python",
   "pygments_lexer": "ipython2",
   "version": "2.7.6"
  }
 },
 "nbformat": 4,
 "nbformat_minor": 5
}
